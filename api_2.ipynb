{
 "cells": [
  {
   "cell_type": "code",
   "execution_count": 276,
   "metadata": {},
   "outputs": [],
   "source": [
    "import pandas as pd"
   ]
  },
  {
   "cell_type": "code",
   "execution_count": 277,
   "metadata": {},
   "outputs": [
    {
     "data": {
      "text/html": [
       "<div>\n",
       "<style scoped>\n",
       "    .dataframe tbody tr th:only-of-type {\n",
       "        vertical-align: middle;\n",
       "    }\n",
       "\n",
       "    .dataframe tbody tr th {\n",
       "        vertical-align: top;\n",
       "    }\n",
       "\n",
       "    .dataframe thead th {\n",
       "        text-align: right;\n",
       "    }\n",
       "</style>\n",
       "<table border=\"1\" class=\"dataframe\">\n",
       "  <thead>\n",
       "    <tr style=\"text-align: right;\">\n",
       "      <th></th>\n",
       "      <th>room_id/id</th>\n",
       "      <th>noted_date</th>\n",
       "      <th>temp</th>\n",
       "      <th>out/in</th>\n",
       "    </tr>\n",
       "    <tr>\n",
       "      <th>id</th>\n",
       "      <th></th>\n",
       "      <th></th>\n",
       "      <th></th>\n",
       "      <th></th>\n",
       "    </tr>\n",
       "  </thead>\n",
       "  <tbody>\n",
       "    <tr>\n",
       "      <th>__export__.temp_log_196134_bd201015</th>\n",
       "      <td>Room Admin</td>\n",
       "      <td>08-12-2018 09:30</td>\n",
       "      <td>29</td>\n",
       "      <td>In</td>\n",
       "    </tr>\n",
       "    <tr>\n",
       "      <th>__export__.temp_log_196131_7bca51bc</th>\n",
       "      <td>Room Admin</td>\n",
       "      <td>08-12-2018 09:30</td>\n",
       "      <td>29</td>\n",
       "      <td>In</td>\n",
       "    </tr>\n",
       "    <tr>\n",
       "      <th>__export__.temp_log_196127_522915e3</th>\n",
       "      <td>Room Admin</td>\n",
       "      <td>08-12-2018 09:29</td>\n",
       "      <td>41</td>\n",
       "      <td>Out</td>\n",
       "    </tr>\n",
       "    <tr>\n",
       "      <th>__export__.temp_log_196128_be0919cf</th>\n",
       "      <td>Room Admin</td>\n",
       "      <td>08-12-2018 09:29</td>\n",
       "      <td>41</td>\n",
       "      <td>Out</td>\n",
       "    </tr>\n",
       "    <tr>\n",
       "      <th>__export__.temp_log_196126_d30b72fb</th>\n",
       "      <td>Room Admin</td>\n",
       "      <td>08-12-2018 09:29</td>\n",
       "      <td>31</td>\n",
       "      <td>In</td>\n",
       "    </tr>\n",
       "  </tbody>\n",
       "</table>\n",
       "</div>"
      ],
      "text/plain": [
       "                                     room_id/id        noted_date  temp out/in\n",
       "id                                                                            \n",
       "__export__.temp_log_196134_bd201015  Room Admin  08-12-2018 09:30    29     In\n",
       "__export__.temp_log_196131_7bca51bc  Room Admin  08-12-2018 09:30    29     In\n",
       "__export__.temp_log_196127_522915e3  Room Admin  08-12-2018 09:29    41    Out\n",
       "__export__.temp_log_196128_be0919cf  Room Admin  08-12-2018 09:29    41    Out\n",
       "__export__.temp_log_196126_d30b72fb  Room Admin  08-12-2018 09:29    31     In"
      ]
     },
     "execution_count": 277,
     "metadata": {},
     "output_type": "execute_result"
    }
   ],
   "source": [
    "data = pd.read_csv('IOT-temp.csv', index_col=\"id\")\n",
    "data.head()"
   ]
  },
  {
   "cell_type": "code",
   "execution_count": 278,
   "metadata": {},
   "outputs": [
    {
     "name": "stdout",
     "output_type": "stream",
     "text": [
      "97606\n"
     ]
    }
   ],
   "source": [
    "print(len(data))"
   ]
  },
  {
   "cell_type": "code",
   "execution_count": 279,
   "metadata": {},
   "outputs": [
    {
     "name": "stdout",
     "output_type": "stream",
     "text": [
      "room_id/id    0\n",
      "noted_date    0\n",
      "temp          0\n",
      "out/in        0\n",
      "dtype: int64\n"
     ]
    }
   ],
   "source": [
    "print(data.isnull().sum())"
   ]
  },
  {
   "cell_type": "code",
   "execution_count": 280,
   "metadata": {},
   "outputs": [
    {
     "name": "stdout",
     "output_type": "stream",
     "text": [
      "32535\n"
     ]
    }
   ],
   "source": [
    "data_1 = data.loc[\"__export__.temp_log_196134_bd201015\":\"__export__.temp_log_60240_9177689a\"] \n",
    "print(len(data_1))\n",
    "data_1.to_csv('batch_1.csv')"
   ]
  },
  {
   "cell_type": "code",
   "execution_count": 281,
   "metadata": {},
   "outputs": [
    {
     "name": "stdout",
     "output_type": "stream",
     "text": [
      "32535\n"
     ]
    }
   ],
   "source": [
    "data_2 = data.loc[\"__export__.temp_log_60239_4eb9e90b\":\"__export__.temp_log_12544_1a76a951\"] \n",
    "print(len(data_2))\n",
    "data_2.to_csv('batch_2.csv')"
   ]
  },
  {
   "cell_type": "code",
   "execution_count": 282,
   "metadata": {},
   "outputs": [
    {
     "name": "stdout",
     "output_type": "stream",
     "text": [
      "32536\n"
     ]
    }
   ],
   "source": [
    "data_3 = data.loc[\"__export__.temp_log_148002_0a1a4e64\":\"__export__.temp_log_133741_32958703\"] \n",
    "print(len(data_3))\n",
    "data_3.to_csv('batch_3.csv')"
   ]
  },
  {
   "cell_type": "code",
   "execution_count": 283,
   "metadata": {},
   "outputs": [
    {
     "name": "stdout",
     "output_type": "stream",
     "text": [
      "In: 10648\n",
      "Out: 21888\n"
     ]
    }
   ],
   "source": [
    "for i in [{\"title\": \"In\", \"boolean\": \"In\"}, {\"title\": \"Out\", \"boolean\": \"Out\"}]:\n",
    "    print(f\"{i['title']}: {(data_3['out/in'] == i['boolean']).sum()}\")"
   ]
  },
  {
   "cell_type": "code",
   "execution_count": 284,
   "metadata": {},
   "outputs": [
    {
     "name": "stdout",
     "output_type": "stream",
     "text": [
      "+--------------------+----------+----------------+---+---+\n",
      "|                 _c0|       _c1|             _c2|_c3|_c4|\n",
      "+--------------------+----------+----------------+---+---+\n",
      "|__export__.temp_l...|Room Admin|17-10-2018 20:37| 39|Out|\n",
      "|__export__.temp_l...|Room Admin|17-10-2018 20:37| 39|Out|\n",
      "|__export__.temp_l...|Room Admin|17-10-2018 20:37| 39|Out|\n",
      "|__export__.temp_l...|Room Admin|17-10-2018 20:37| 39|Out|\n",
      "|__export__.temp_l...|Room Admin|17-10-2018 20:37| 39|Out|\n",
      "+--------------------+----------+----------------+---+---+\n",
      "\n"
     ]
    }
   ],
   "source": [
    "from pyspark.sql import SparkSession\n",
    "from pyspark.sql.functions import when\n",
    "from pyspark.sql.functions import col, unix_timestamp, from_unixtime, hour, when\n",
    "from pyspark.ml.feature import VectorAssembler\n",
    "from pyspark.sql.functions import col\n",
    "from pyspark.ml.classification import RandomForestClassifier\n",
    "from pyspark.ml.evaluation import BinaryClassificationEvaluator\n",
    "from pyspark.ml.feature import StringIndexer\n",
    "from pyspark.ml.evaluation import MulticlassClassificationEvaluator\n",
    "\n",
    "spark = SparkSession.builder.appName(\"RandomForestClassifier\").getOrCreate()\n",
    "\n",
    "# Load data\n",
    "data = spark.read.csv(\"batch_2.csv\")\n",
    "data = data.filter(data._c0 != 'id')\n",
    "data.limit(5).show()"
   ]
  },
  {
   "cell_type": "code",
   "execution_count": null,
   "metadata": {},
   "outputs": [],
   "source": []
  },
  {
   "cell_type": "code",
   "execution_count": 285,
   "metadata": {},
   "outputs": [
    {
     "name": "stdout",
     "output_type": "stream",
     "text": [
      "+----------------+---+---+\n",
      "|             _c2|_c3|_c5|\n",
      "+----------------+---+---+\n",
      "|17-10-2018 20:37| 39|  1|\n",
      "|17-10-2018 20:37| 39|  1|\n",
      "|17-10-2018 20:37| 39|  1|\n",
      "|17-10-2018 20:37| 39|  1|\n",
      "|17-10-2018 20:37| 39|  1|\n",
      "+----------------+---+---+\n",
      "\n"
     ]
    }
   ],
   "source": [
    "data = data.withColumn(\"_c5\", when(data[\"_c4\"] == \"Out\", 1).otherwise(0))\n",
    "data = data.drop(\"_c0\", \"_c1\", \"_c4\")\n",
    "data.limit(5).show()"
   ]
  },
  {
   "cell_type": "code",
   "execution_count": 286,
   "metadata": {},
   "outputs": [
    {
     "name": "stdout",
     "output_type": "stream",
     "text": [
      "+-----+---+---+\n",
      "|  _c2|_c3|_c5|\n",
      "+-----+---+---+\n",
      "|malam| 39|  1|\n",
      "|malam| 39|  1|\n",
      "|malam| 39|  1|\n",
      "|malam| 39|  1|\n",
      "|malam| 39|  1|\n",
      "+-----+---+---+\n",
      "\n"
     ]
    }
   ],
   "source": [
    "data = data.withColumn(\"_c2\", from_unixtime(unix_timestamp(\"_c2\", \"dd-MM-yyyy HH:mm\")))\n",
    "data = data.withColumn(\"_c2\", \n",
    "    when(hour(col(\"_c2\")) < 12, \"pagi\")\n",
    "    .when((hour(col(\"_c2\")) >= 12) & (hour(col(\"_c2\")) < 18), \"siang\")\n",
    "    .otherwise(\"malam\"))\n",
    "\n",
    "data.limit(5).show()"
   ]
  },
  {
   "cell_type": "code",
   "execution_count": 287,
   "metadata": {},
   "outputs": [
    {
     "name": "stdout",
     "output_type": "stream",
     "text": [
      "+-----+\n",
      "|  _c2|\n",
      "+-----+\n",
      "|siang|\n",
      "|malam|\n",
      "| pagi|\n",
      "+-----+\n",
      "\n",
      "+----------+---+\n",
      "|  features|_c2|\n",
      "+----------+---+\n",
      "|[39.0,1.0]|2.0|\n",
      "|[39.0,1.0]|2.0|\n",
      "|[39.0,1.0]|2.0|\n",
      "|[39.0,1.0]|2.0|\n",
      "|[39.0,1.0]|2.0|\n",
      "+----------+---+\n",
      "\n"
     ]
    }
   ],
   "source": [
    "data.select(\"_c2\").distinct().show()\n",
    "\n",
    "# Initialize StringIndexer (temporary output column name to avoid conflict)\n",
    "indexer = StringIndexer(inputCol=\"_c2\", outputCol=\"_c2_indexed\")\n",
    "\n",
    "# Apply the transformation to create the new indexed column\n",
    "data = indexer.fit(data).transform(data)\n",
    "\n",
    "# Drop the old _c2 column\n",
    "data = data.drop(\"_c2\")\n",
    "\n",
    "# Rename _c2_indexed to _c2 to replace the old column\n",
    "data = data.withColumnRenamed(\"_c2_indexed\", \"_c2\")\n",
    "\n",
    "# Convert _c3 to numeric type (e.g., IntegerType or DoubleType)\n",
    "data = data.withColumn(\"_c3\", col(\"_c3\").cast(\"double\"))\n",
    "\n",
    "assembler = VectorAssembler(inputCols=[\"_c3\", \"_c5\"], outputCol=\"features\")\n",
    "data = assembler.transform(data).select(\"features\", \"_c2\")\n",
    "\n",
    "data.limit(5).show()"
   ]
  },
  {
   "cell_type": "code",
   "execution_count": 288,
   "metadata": {},
   "outputs": [],
   "source": [
    "train_data, test_data = data.randomSplit([0.7, 0.3], seed=42)"
   ]
  },
  {
   "cell_type": "code",
   "execution_count": 289,
   "metadata": {},
   "outputs": [],
   "source": [
    "from pyspark.ml.classification import RandomForestClassifier\n",
    "from pyspark.ml.evaluation import BinaryClassificationEvaluator\n",
    "from pyspark.ml.tuning import ParamGridBuilder, CrossValidator\n",
    "\n",
    "# Initialize the RandomForestClassifier with the best hyperparameters\n",
    "rf = RandomForestClassifier(labelCol=\"_c2\", featuresCol=\"features\", \n",
    "                            numTrees=50, maxDepth=18, maxBins=128)\n",
    "\n",
    "# Define the parameter grid (you can add more values to experiment with)\n",
    "paramGrid = ParamGridBuilder().addGrid(rf.numTrees, [50]).addGrid(rf.maxDepth, [18]).addGrid(rf.maxBins, [128]).build()"
   ]
  },
  {
   "cell_type": "code",
   "execution_count": 290,
   "metadata": {},
   "outputs": [],
   "source": [
    "# Define the evaluator\n",
    "evaluator = MulticlassClassificationEvaluator(labelCol=\"_c2\", metricName=\"accuracy\")\n",
    "\n",
    "# Set up CrossValidator with the updated paramGrid\n",
    "crossval = CrossValidator(estimator=rf,\n",
    "                          estimatorParamMaps=paramGrid,\n",
    "                          evaluator=evaluator,\n",
    "                          numFolds=3)\n",
    "\n",
    "# Run cross-validation and choose the best set of parameters\n",
    "cvModel = crossval.fit(train_data)"
   ]
  },
  {
   "cell_type": "code",
   "execution_count": 291,
   "metadata": {},
   "outputs": [],
   "source": [
    "predictions = cvModel.transform(test_data)"
   ]
  },
  {
   "cell_type": "code",
   "execution_count": 292,
   "metadata": {},
   "outputs": [
    {
     "name": "stdout",
     "output_type": "stream",
     "text": [
      "accuracy: 0.6457945856581938\n"
     ]
    }
   ],
   "source": [
    "evaluator = MulticlassClassificationEvaluator(labelCol=\"_c2\", predictionCol=\"prediction\", metricName=\"accuracy\")\n",
    "roc_auc = evaluator.evaluate(predictions)\n",
    "\n",
    "print(f\"accuracy: {roc_auc}\")"
   ]
  },
  {
   "cell_type": "code",
   "execution_count": 293,
   "metadata": {},
   "outputs": [
    {
     "name": "stdout",
     "output_type": "stream",
     "text": [
      "+----------+---+----------+\n",
      "|  features|_c2|prediction|\n",
      "+----------+---+----------+\n",
      "|[22.0,0.0]|1.0|       0.0|\n",
      "|[25.0,0.0]|0.0|       0.0|\n",
      "|[25.0,0.0]|0.0|       0.0|\n",
      "|[25.0,0.0]|0.0|       0.0|\n",
      "|[25.0,0.0]|2.0|       0.0|\n",
      "+----------+---+----------+\n",
      "only showing top 5 rows\n",
      "\n"
     ]
    }
   ],
   "source": [
    "predictions.select(\"features\", \"_c2\", \"prediction\").show(5)"
   ]
  },
  {
   "cell_type": "code",
   "execution_count": 294,
   "metadata": {},
   "outputs": [
    {
     "name": "stdout",
     "output_type": "stream",
     "text": [
      "pagi: 5341\n",
      "malam: 3903\n",
      "siang: 434\n"
     ]
    }
   ],
   "source": [
    "for i in [{\"title\": \"pagi\", \"label\": 0}, {\"title\": \"malam\", \"label\": 1}, {\"title\": \"siang\", \"label\": 2}]:\n",
    "    print(f\"{i['title']}: {predictions.filter(predictions['prediction'] == i['label']).count()}\")"
   ]
  },
  {
   "cell_type": "code",
   "execution_count": 295,
   "metadata": {},
   "outputs": [
    {
     "name": "stdout",
     "output_type": "stream",
     "text": [
      "+----------+---+----------+\n",
      "|  features|_c2|prediction|\n",
      "+----------+---+----------+\n",
      "|[22.0,0.0]|1.0|      pagi|\n",
      "|[25.0,0.0]|0.0|      pagi|\n",
      "|[25.0,0.0]|0.0|      pagi|\n",
      "|[25.0,0.0]|0.0|      pagi|\n",
      "|[25.0,0.0]|2.0|      pagi|\n",
      "+----------+---+----------+\n",
      "only showing top 5 rows\n",
      "\n"
     ]
    }
   ],
   "source": [
    "predictions = predictions.withColumn(\"prediction\", when(predictions[\"prediction\"] == 0, \"pagi\").when(col(\"prediction\") == 1, \"malam\").otherwise(\"siang\"))\n",
    "predictions.select(\"features\", \"_c2\", \"prediction\").show(5)"
   ]
  },
  {
   "cell_type": "code",
   "execution_count": 296,
   "metadata": {},
   "outputs": [],
   "source": [
    "# Convert to Pandas DataFrame\n",
    "pandas_df = predictions.select(\"features\", \"_c2\", \"prediction\").toPandas()\n",
    "\n",
    "pandas_df.to_csv(\"result_from_train.csv\", index=False)"
   ]
  },
  {
   "cell_type": "code",
   "execution_count": null,
   "metadata": {},
   "outputs": [],
   "source": [
    "import json\n",
    "from flask import Flask, jsonify, request\n",
    "import pandas as pd\n",
    "from pyspark.sql import SparkSession\n",
    "from pyspark.sql.functions import when, unix_timestamp, col\n",
    "from pyspark.ml.feature import VectorAssembler\n",
    "import os\n",
    "\n",
    "app = Flask(__name__)\n",
    "\n",
    "UPLOAD_FOLDER = os.getcwd()  # Current directory\n",
    "app.config['UPLOAD_FOLDER'] = UPLOAD_FOLDER\n",
    "\n",
    "# Initialize Spark session\n",
    "spark = SparkSession.builder.appName('FileProcessingApp').getOrCreate()\n",
    "\n",
    "@app.route('/api_2', methods=['POST'])\n",
    "def create():\n",
    "    try:\n",
    "        # Access the uploaded file and get its filename\n",
    "        file = request.files['file']\n",
    "        file_name = file.filename\n",
    "\n",
    "        # Extract the pure file name (without any path)\n",
    "        pure_file_name = os.path.basename(file_name)\n",
    "\n",
    "        # Define the path where the file will be saved (current folder)\n",
    "        file_path = os.path.join(app.config['UPLOAD_FOLDER'], pure_file_name)\n",
    "\n",
    "        print(pure_file_name)\n",
    "        \n",
    "        # Save the file to the current folder\n",
    "        file.save(file_path)\n",
    "\n",
    "        # Read the CSV file into a Spark DataFrame\n",
    "        spark_df = spark.read.csv(pure_file_name)\n",
    "        spark_df = spark_df.filter(spark_df[\"_c0\"] != 'id')\n",
    "        spark_df = spark_df.withColumn(\"_c5\", when(spark_df[\"_c4\"] == \"Out\", 1).otherwise(0))\n",
    "        spark_df = spark_df.drop(\"_c0\", \"_c1\", \"_c4\", \"_c2\")\n",
    "\n",
    "        # Convert _c3 to numeric type (e.g., IntegerType or DoubleType)\n",
    "        spark_df = spark_df.withColumn(\"_c3\", col(\"_c3\").cast(\"double\"))\n",
    "\n",
    "        assembler = VectorAssembler(inputCols=[\"_c3\", \"_c5\"], outputCol=\"features\")\n",
    "        # spark_df = assembler.transform(spark_df).select(\"features\", \"_c2\")\n",
    "        spark_df = assembler.transform(spark_df).select(\"features\")\n",
    "\n",
    "        predictions = cvModel.transform(spark_df)\n",
    "\n",
    "        # Export predictions to pandas DataFrame\n",
    "        export = predictions.drop(\"rawPrediction\", \"probability\").withColumn(\"prediction\", when(predictions[\"prediction\"] == 0, \"pagi\").when(col(\"prediction\") == 1, \"malam\").otherwise(\"siang\")).toPandas()\n",
    "\n",
    "        # Save the results to a CSV file\n",
    "        export.to_csv(\"result_from_api.csv\", index=False)\n",
    "        \n",
    "        return jsonify({\"message\": \"File successfully saved as result_from_api.csv\"}), 200\n",
    "    except Exception as e:\n",
    "        return jsonify({\"error\": str(e)}), 500\n",
    "\n",
    "if __name__ == '__main__':\n",
    "   app.run(port=5000)"
   ]
  }
 ],
 "metadata": {
  "kernelspec": {
   "display_name": "Python 3",
   "language": "python",
   "name": "python3"
  },
  "language_info": {
   "codemirror_mode": {
    "name": "ipython",
    "version": 3
   },
   "file_extension": ".py",
   "mimetype": "text/x-python",
   "name": "python",
   "nbconvert_exporter": "python",
   "pygments_lexer": "ipython3",
   "version": "3.11.9"
  }
 },
 "nbformat": 4,
 "nbformat_minor": 2
}
