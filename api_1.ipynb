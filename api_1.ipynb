{
 "cells": [
  {
   "cell_type": "code",
   "execution_count": 1,
   "metadata": {},
   "outputs": [],
   "source": [
    "import pandas as pd"
   ]
  },
  {
   "cell_type": "code",
   "execution_count": 2,
   "metadata": {},
   "outputs": [
    {
     "data": {
      "text/html": [
       "<div>\n",
       "<style scoped>\n",
       "    .dataframe tbody tr th:only-of-type {\n",
       "        vertical-align: middle;\n",
       "    }\n",
       "\n",
       "    .dataframe tbody tr th {\n",
       "        vertical-align: top;\n",
       "    }\n",
       "\n",
       "    .dataframe thead th {\n",
       "        text-align: right;\n",
       "    }\n",
       "</style>\n",
       "<table border=\"1\" class=\"dataframe\">\n",
       "  <thead>\n",
       "    <tr style=\"text-align: right;\">\n",
       "      <th></th>\n",
       "      <th>room_id/id</th>\n",
       "      <th>noted_date</th>\n",
       "      <th>temp</th>\n",
       "      <th>out/in</th>\n",
       "    </tr>\n",
       "    <tr>\n",
       "      <th>id</th>\n",
       "      <th></th>\n",
       "      <th></th>\n",
       "      <th></th>\n",
       "      <th></th>\n",
       "    </tr>\n",
       "  </thead>\n",
       "  <tbody>\n",
       "    <tr>\n",
       "      <th>__export__.temp_log_196134_bd201015</th>\n",
       "      <td>Room Admin</td>\n",
       "      <td>08-12-2018 09:30</td>\n",
       "      <td>29</td>\n",
       "      <td>In</td>\n",
       "    </tr>\n",
       "    <tr>\n",
       "      <th>__export__.temp_log_196131_7bca51bc</th>\n",
       "      <td>Room Admin</td>\n",
       "      <td>08-12-2018 09:30</td>\n",
       "      <td>29</td>\n",
       "      <td>In</td>\n",
       "    </tr>\n",
       "    <tr>\n",
       "      <th>__export__.temp_log_196127_522915e3</th>\n",
       "      <td>Room Admin</td>\n",
       "      <td>08-12-2018 09:29</td>\n",
       "      <td>41</td>\n",
       "      <td>Out</td>\n",
       "    </tr>\n",
       "    <tr>\n",
       "      <th>__export__.temp_log_196128_be0919cf</th>\n",
       "      <td>Room Admin</td>\n",
       "      <td>08-12-2018 09:29</td>\n",
       "      <td>41</td>\n",
       "      <td>Out</td>\n",
       "    </tr>\n",
       "    <tr>\n",
       "      <th>__export__.temp_log_196126_d30b72fb</th>\n",
       "      <td>Room Admin</td>\n",
       "      <td>08-12-2018 09:29</td>\n",
       "      <td>31</td>\n",
       "      <td>In</td>\n",
       "    </tr>\n",
       "  </tbody>\n",
       "</table>\n",
       "</div>"
      ],
      "text/plain": [
       "                                     room_id/id        noted_date  temp out/in\n",
       "id                                                                            \n",
       "__export__.temp_log_196134_bd201015  Room Admin  08-12-2018 09:30    29     In\n",
       "__export__.temp_log_196131_7bca51bc  Room Admin  08-12-2018 09:30    29     In\n",
       "__export__.temp_log_196127_522915e3  Room Admin  08-12-2018 09:29    41    Out\n",
       "__export__.temp_log_196128_be0919cf  Room Admin  08-12-2018 09:29    41    Out\n",
       "__export__.temp_log_196126_d30b72fb  Room Admin  08-12-2018 09:29    31     In"
      ]
     },
     "execution_count": 2,
     "metadata": {},
     "output_type": "execute_result"
    }
   ],
   "source": [
    "data = pd.read_csv('IOT-temp.csv', index_col=\"id\")\n",
    "data.head()"
   ]
  },
  {
   "cell_type": "code",
   "execution_count": 3,
   "metadata": {},
   "outputs": [
    {
     "name": "stdout",
     "output_type": "stream",
     "text": [
      "97606\n"
     ]
    }
   ],
   "source": [
    "print(len(data))"
   ]
  },
  {
   "cell_type": "code",
   "execution_count": 4,
   "metadata": {},
   "outputs": [
    {
     "name": "stdout",
     "output_type": "stream",
     "text": [
      "room_id/id    0\n",
      "noted_date    0\n",
      "temp          0\n",
      "out/in        0\n",
      "dtype: int64\n"
     ]
    }
   ],
   "source": [
    "print(data.isnull().sum())"
   ]
  },
  {
   "cell_type": "code",
   "execution_count": 5,
   "metadata": {},
   "outputs": [
    {
     "name": "stdout",
     "output_type": "stream",
     "text": [
      "32535\n"
     ]
    }
   ],
   "source": [
    "data_1 = data.loc[\"__export__.temp_log_196134_bd201015\":\"__export__.temp_log_60240_9177689a\"] \n",
    "print(len(data_1))\n",
    "data_1.to_csv('batch_1.csv')"
   ]
  },
  {
   "cell_type": "code",
   "execution_count": 6,
   "metadata": {},
   "outputs": [
    {
     "name": "stdout",
     "output_type": "stream",
     "text": [
      "32535\n"
     ]
    }
   ],
   "source": [
    "data_2 = data.loc[\"__export__.temp_log_60239_4eb9e90b\":\"__export__.temp_log_12544_1a76a951\"] \n",
    "print(len(data_2))\n",
    "data_2.to_csv('batch_2.csv')"
   ]
  },
  {
   "cell_type": "code",
   "execution_count": 7,
   "metadata": {},
   "outputs": [
    {
     "name": "stdout",
     "output_type": "stream",
     "text": [
      "32536\n"
     ]
    }
   ],
   "source": [
    "data_3 = data.loc[\"__export__.temp_log_148002_0a1a4e64\":\"__export__.temp_log_133741_32958703\"] \n",
    "print(len(data_3))\n",
    "data_3.to_csv('batch_3.csv')"
   ]
  },
  {
   "cell_type": "code",
   "execution_count": 8,
   "metadata": {},
   "outputs": [
    {
     "name": "stdout",
     "output_type": "stream",
     "text": [
      "In: 10648\n",
      "Out: 21888\n"
     ]
    }
   ],
   "source": [
    "for i in [{\"title\": \"In\", \"boolean\": \"In\"}, {\"title\": \"Out\", \"boolean\": \"Out\"}]:\n",
    "    print(f\"{i['title']}: {(data_3['out/in'] == i['boolean']).sum()}\")"
   ]
  },
  {
   "cell_type": "code",
   "execution_count": 9,
   "metadata": {},
   "outputs": [
    {
     "name": "stdout",
     "output_type": "stream",
     "text": [
      "+--------------------+----------+----------------+---+---+\n",
      "|                 _c0|       _c1|             _c2|_c3|_c4|\n",
      "+--------------------+----------+----------------+---+---+\n",
      "|__export__.temp_l...|Room Admin|08-12-2018 09:30| 29| In|\n",
      "|__export__.temp_l...|Room Admin|08-12-2018 09:30| 29| In|\n",
      "|__export__.temp_l...|Room Admin|08-12-2018 09:29| 41|Out|\n",
      "|__export__.temp_l...|Room Admin|08-12-2018 09:29| 41|Out|\n",
      "|__export__.temp_l...|Room Admin|08-12-2018 09:29| 31| In|\n",
      "+--------------------+----------+----------------+---+---+\n",
      "\n"
     ]
    }
   ],
   "source": [
    "from pyspark.sql import SparkSession\n",
    "from pyspark.sql.functions import when\n",
    "from pyspark.sql.functions import unix_timestamp\n",
    "from pyspark.ml.feature import VectorAssembler\n",
    "from pyspark.sql.functions import col\n",
    "from pyspark.ml.classification import RandomForestClassifier\n",
    "from pyspark.ml.evaluation import BinaryClassificationEvaluator\n",
    "\n",
    "spark = SparkSession.builder.appName(\"RandomForestClassifier\").getOrCreate()\n",
    "\n",
    "# Load data\n",
    "data = spark.read.csv(\"IOT-temp.csv\")\n",
    "data = data.filter(data._c0 != 'id')\n",
    "data.limit(5).show()"
   ]
  },
  {
   "cell_type": "code",
   "execution_count": 10,
   "metadata": {},
   "outputs": [
    {
     "name": "stdout",
     "output_type": "stream",
     "text": [
      "+----------------+---+---+\n",
      "|             _c2|_c3|_c5|\n",
      "+----------------+---+---+\n",
      "|08-12-2018 09:30| 29|  0|\n",
      "|08-12-2018 09:30| 29|  0|\n",
      "|08-12-2018 09:29| 41|  1|\n",
      "|08-12-2018 09:29| 41|  1|\n",
      "|08-12-2018 09:29| 31|  0|\n",
      "+----------------+---+---+\n",
      "\n"
     ]
    }
   ],
   "source": [
    "data = data.withColumn(\"_c5\", when(data[\"_c4\"] == \"Out\", 1).otherwise(0))\n",
    "data = data.drop(\"_c0\", \"_c1\", \"_c4\")\n",
    "data.limit(5).show()"
   ]
  },
  {
   "cell_type": "code",
   "execution_count": 11,
   "metadata": {},
   "outputs": [
    {
     "name": "stdout",
     "output_type": "stream",
     "text": [
      "+----------+---+---+\n",
      "|       _c2|_c3|_c5|\n",
      "+----------+---+---+\n",
      "|1544236200| 29|  0|\n",
      "|1544236200| 29|  0|\n",
      "|1544236140| 41|  1|\n",
      "|1544236140| 41|  1|\n",
      "|1544236140| 31|  0|\n",
      "+----------+---+---+\n",
      "\n"
     ]
    }
   ],
   "source": [
    "data = data.withColumn(\"_c2\", unix_timestamp(\"_c2\", \"dd-MM-yyyy HH:mm\"))\n",
    "data.limit(5).show()"
   ]
  },
  {
   "cell_type": "code",
   "execution_count": 12,
   "metadata": {},
   "outputs": [
    {
     "name": "stdout",
     "output_type": "stream",
     "text": [
      "+-------------------+---+\n",
      "|           features|_c5|\n",
      "+-------------------+---+\n",
      "| [29.0,1.5442362E9]|  0|\n",
      "| [29.0,1.5442362E9]|  0|\n",
      "|[41.0,1.54423614E9]|  1|\n",
      "|[41.0,1.54423614E9]|  1|\n",
      "|[31.0,1.54423614E9]|  0|\n",
      "+-------------------+---+\n",
      "\n"
     ]
    }
   ],
   "source": [
    "# Convert _c3 to numeric type (e.g., IntegerType or DoubleType)\n",
    "data = data.withColumn(\"_c3\", col(\"_c3\").cast(\"double\"))\n",
    "\n",
    "assembler = VectorAssembler(inputCols=[\"_c3\", \"_c2\"], outputCol=\"features\")\n",
    "data = assembler.transform(data).select(\"features\", \"_c5\")\n",
    "\n",
    "data.limit(5).show()"
   ]
  },
  {
   "cell_type": "code",
   "execution_count": 13,
   "metadata": {},
   "outputs": [],
   "source": [
    "train_data, test_data = data.randomSplit([0.7, 0.3], seed=42)"
   ]
  },
  {
   "cell_type": "code",
   "execution_count": 14,
   "metadata": {},
   "outputs": [],
   "source": [
    "from pyspark.ml.classification import RandomForestClassifier\n",
    "from pyspark.ml.evaluation import BinaryClassificationEvaluator\n",
    "from pyspark.ml.tuning import ParamGridBuilder, CrossValidator\n",
    "\n",
    "# Initialize the RandomForestClassifier with the best hyperparameters\n",
    "rf = RandomForestClassifier(labelCol=\"_c5\", featuresCol=\"features\", \n",
    "                            numTrees=90, maxDepth=19, maxBins=128)\n",
    "\n",
    "# You can still use the ParamGridBuilder if you want to explore other parameters or use a grid search\n",
    "paramGrid = ParamGridBuilder().addGrid(rf.numTrees, [90]).addGrid(rf.maxDepth, [19]).addGrid(rf.maxBins, [128]).build()"
   ]
  },
  {
   "cell_type": "code",
   "execution_count": 15,
   "metadata": {},
   "outputs": [],
   "source": [
    "# Define the evaluator\n",
    "evaluator = BinaryClassificationEvaluator(labelCol=\"_c5\", metricName=\"areaUnderROC\")\n",
    "\n",
    "# Set up CrossValidator with the updated paramGrid\n",
    "crossval = CrossValidator(estimator=rf,\n",
    "                          estimatorParamMaps=paramGrid,\n",
    "                          evaluator=evaluator,\n",
    "                          numFolds=3)\n",
    "\n",
    "# Run cross-validation and choose the best set of parameters\n",
    "cvModel = crossval.fit(train_data)"
   ]
  },
  {
   "cell_type": "code",
   "execution_count": 16,
   "metadata": {},
   "outputs": [],
   "source": [
    "predictions = cvModel.transform(test_data)"
   ]
  },
  {
   "cell_type": "code",
   "execution_count": 17,
   "metadata": {},
   "outputs": [
    {
     "name": "stdout",
     "output_type": "stream",
     "text": [
      "Test Area Under ROC: 0.8421569839427413\n"
     ]
    }
   ],
   "source": [
    "evaluator = BinaryClassificationEvaluator(labelCol=\"_c5\", rawPredictionCol=\"prediction\", metricName=\"areaUnderROC\")\n",
    "roc_auc = evaluator.evaluate(predictions)\n",
    "\n",
    "print(f\"Test Area Under ROC: {roc_auc}\")"
   ]
  },
  {
   "cell_type": "code",
   "execution_count": 18,
   "metadata": {},
   "outputs": [
    {
     "name": "stdout",
     "output_type": "stream",
     "text": [
      "+-------------------+---+----------+\n",
      "|           features|_c5|prediction|\n",
      "+-------------------+---+----------+\n",
      "|[22.0,1.53968382E9]|  0|       0.0|\n",
      "| [22.0,1.5438099E9]|  0|       0.0|\n",
      "| [22.0,1.5438099E9]|  0|       0.0|\n",
      "| [22.0,1.5438099E9]|  0|       0.0|\n",
      "| [22.0,1.5438099E9]|  0|       0.0|\n",
      "+-------------------+---+----------+\n",
      "only showing top 5 rows\n",
      "\n"
     ]
    }
   ],
   "source": [
    "predictions.select(\"features\", \"_c5\", \"prediction\").show(5)"
   ]
  },
  {
   "cell_type": "code",
   "execution_count": 19,
   "metadata": {},
   "outputs": [
    {
     "name": "stdout",
     "output_type": "stream",
     "text": [
      "In: 4805\n",
      "Out: 24361\n"
     ]
    }
   ],
   "source": [
    "for i in [{\"title\": \"In\", \"boolean\": 0}, {\"title\": \"Out\", \"boolean\": 1}]:\n",
    "    print(f\"{i['title']}: {predictions.filter(predictions['prediction'] == i['boolean']).count()}\")"
   ]
  },
  {
   "cell_type": "code",
   "execution_count": 20,
   "metadata": {},
   "outputs": [
    {
     "name": "stdout",
     "output_type": "stream",
     "text": [
      "+-------------------+---+----------+\n",
      "|           features|_c5|prediction|\n",
      "+-------------------+---+----------+\n",
      "|[22.0,1.53968382E9]|  0|        In|\n",
      "| [22.0,1.5438099E9]|  0|        In|\n",
      "| [22.0,1.5438099E9]|  0|        In|\n",
      "| [22.0,1.5438099E9]|  0|        In|\n",
      "| [22.0,1.5438099E9]|  0|        In|\n",
      "+-------------------+---+----------+\n",
      "only showing top 5 rows\n",
      "\n"
     ]
    }
   ],
   "source": [
    "predictions = predictions.withColumn(\"prediction\", when(predictions[\"prediction\"] == 1, \"Out\").otherwise(\"In\"))\n",
    "predictions.select(\"features\", \"_c5\", \"prediction\").show(5)"
   ]
  },
  {
   "cell_type": "code",
   "execution_count": 21,
   "metadata": {},
   "outputs": [],
   "source": [
    "# Convert to Pandas DataFrame\n",
    "pandas_df = predictions.select(\"features\", \"_c5\", \"prediction\").toPandas()\n",
    "\n",
    "pandas_df.to_csv(\"result_from_train.csv\", index=False)"
   ]
  },
  {
   "cell_type": "code",
   "execution_count": null,
   "metadata": {},
   "outputs": [],
   "source": [
    "import json\n",
    "from flask import Flask, jsonify, request\n",
    "import pandas as pd\n",
    "from pyspark.sql import SparkSession\n",
    "from pyspark.sql.functions import when, unix_timestamp, col\n",
    "from pyspark.ml.feature import VectorAssembler\n",
    "import os\n",
    "\n",
    "app = Flask(__name__)\n",
    "\n",
    "UPLOAD_FOLDER = os.getcwd()  # Current directory\n",
    "app.config['UPLOAD_FOLDER'] = UPLOAD_FOLDER\n",
    "\n",
    "# Initialize Spark session\n",
    "spark = SparkSession.builder.appName('FileProcessingApp').getOrCreate()\n",
    "\n",
    "@app.route('/api_1', methods=['POST'])\n",
    "def create():\n",
    "    try:\n",
    "        # Access the uploaded file and get its filename\n",
    "        file = request.files['file']\n",
    "        file_name = file.filename\n",
    "\n",
    "        # Extract the pure file name (without any path)\n",
    "        pure_file_name = os.path.basename(file_name)\n",
    "\n",
    "        # Define the path where the file will be saved (current folder)\n",
    "        file_path = os.path.join(app.config['UPLOAD_FOLDER'], pure_file_name)\n",
    "\n",
    "        print(pure_file_name)\n",
    "        \n",
    "        # Save the file to the current folder\n",
    "        file.save(file_path)\n",
    "\n",
    "        # Read the CSV file into a Spark DataFrame\n",
    "        spark_df = spark.read.csv(pure_file_name)\n",
    "        spark_df = spark_df.filter(spark_df[\"_c0\"] != 'id')\n",
    "        spark_df = spark_df.drop(\"_c0\", \"_c1\")\n",
    "        spark_df = spark_df.withColumn(\"_c2\", unix_timestamp(\"_c2\", \"dd-MM-yyyy HH:mm\"))\n",
    "        spark_df = spark_df.withColumn(\"_c3\", col(\"_c3\").cast(\"double\"))\n",
    "\n",
    "        # Assemble features\n",
    "        assembler = VectorAssembler(inputCols=[\"_c3\", \"_c2\"], outputCol=\"features\")\n",
    "        spark_df = assembler.transform(spark_df).select(\"features\")\n",
    "\n",
    "        predictions = cvModel.transform(spark_df)\n",
    "\n",
    "        # Export predictions to pandas DataFrame\n",
    "        export = predictions.drop(\"rawPrediction\", \"probability\").withColumn(\"prediction\", when(predictions[\"prediction\"] == 1, \"Out\").otherwise(\"In\")).toPandas()\n",
    "\n",
    "        # Save the results to a CSV file\n",
    "        export.to_csv(\"result_from_api.csv\", index=False)\n",
    "        \n",
    "        return jsonify({\"message\": \"File successfully saved as result_from_api.csv\"}), 200\n",
    "    except Exception as e:\n",
    "        return jsonify({\"error\": str(e)}), 500\n",
    "\n",
    "if __name__ == '__main__':\n",
    "   app.run(port=5000)"
   ]
  }
 ],
 "metadata": {
  "kernelspec": {
   "display_name": "Python 3",
   "language": "python",
   "name": "python3"
  },
  "language_info": {
   "codemirror_mode": {
    "name": "ipython",
    "version": 3
   },
   "file_extension": ".py",
   "mimetype": "text/x-python",
   "name": "python",
   "nbconvert_exporter": "python",
   "pygments_lexer": "ipython3",
   "version": "3.11.9"
  }
 },
 "nbformat": 4,
 "nbformat_minor": 2
}
